{
  "nbformat": 4,
  "nbformat_minor": 0,
  "metadata": {
    "colab": {
      "name": "Al_hw2_q3.ipynb",
      "provenance": [],
      "authorship_tag": "ABX9TyMGu1X3Bz9nSmI4LKpueo6t",
      "include_colab_link": true
    },
    "kernelspec": {
      "name": "python3",
      "display_name": "Python 3"
    },
    "language_info": {
      "name": "python"
    }
  },
  "cells": [
    {
      "cell_type": "markdown",
      "metadata": {
        "id": "view-in-github",
        "colab_type": "text"
      },
      "source": [
        "<a href=\"https://colab.research.google.com/github/shoumyasingh/Artificial_Intelligence_python/blob/main/Al_hw2_q3.ipynb\" target=\"_parent\"><img src=\"https://colab.research.google.com/assets/colab-badge.svg\" alt=\"Open In Colab\"/></a>"
      ]
    },
    {
      "cell_type": "markdown",
      "source": [
        "Given the following dataset, design python function as binary classifier for the following two classes. \n",
        "     - Plot all points in two different classes first in Excel or python matplotlib functions\n",
        "     - Observe what boundary decision function is good to separate two classes\n",
        "- Build up hypothesis function/loss function/cost function based on your selected   decision function\n",
        "- Write python program to train your model\n",
        "- After model training, plot decision boundary function in Excel or python matplotlib functions"
      ],
      "metadata": {
        "id": "-tNB2E_Wxg8y"
      }
    },
    {
      "cell_type": "code",
      "execution_count": 5,
      "metadata": {
        "id": "Vxz3DnOAwxbz"
      },
      "outputs": [],
      "source": [
        "# Required imports\n",
        "import pandas as pd\n",
        "import  numpy as np\n",
        "import matplotlib.pyplot as plt"
      ]
    },
    {
      "cell_type": "code",
      "source": [
        "# hypothesis function\n",
        "def hypothesis(x,theta):\n",
        "    h = np.dot(x,theta)\n",
        "    return sigmoid(h)\n",
        "\n",
        "# sigmoid function\n",
        "def sigmoid(z):\n",
        "    return 1/(1+np.exp(-z))\n"
      ],
      "metadata": {
        "id": "fKO6Sw_szKlU"
      },
      "execution_count": 7,
      "outputs": []
    },
    {
      "cell_type": "code",
      "source": [
        "# cost function\n",
        "def cost(x,y,theta):\n",
        "    m = x.shape[0]\n",
        "    total_cost = (-1/m)*(np.sum((y*(np.log(hypothesis(x,theta))))+((1-y)*(np.log(1-hypothesis(x,theta))))))\n",
        "    return total_cost"
      ],
      "metadata": {
        "id": "1W8iQ-Eczgw2"
      },
      "execution_count": 8,
      "outputs": []
    },
    {
      "cell_type": "code",
      "source": [
        "# gradient descent function\n",
        "def gradient(x,y,theta):\n",
        "    m = x.shape[0]\n",
        "    return (1/m)*(np.dot(x.transpose(),(hypothesis(x,theta)-y)))\n",
        "\n",
        "def gradient_descent(x,y,learning_rate,max_itr):\n",
        "    m = x.shape[0]\n",
        "    n = x.shape[1]\n",
        "    \n",
        "    # Add a column of ones to x-matrix (corresponding to bias term)\n",
        "    ones = np.ones((m,1))\n",
        "    x = np.hstack((ones,x))\n",
        "    \n",
        "    # Initialize parameters to zero\n",
        "    theta = np.zeros((n+1,1))\n",
        "    cost_history = []\n",
        "    \n",
        "    for i in range(max_itr):\n",
        "        theta = theta - learning_rate*gradient(x,y,theta)\n",
        "        cost_history.append(cost(x,y,theta))\n",
        "        \n",
        "    return theta,cost_history"
      ],
      "metadata": {
        "id": "wLJufkWIzoFi"
      },
      "execution_count": 9,
      "outputs": []
    },
    {
      "cell_type": "code",
      "source": [
        "# function to plot decision boundary\n",
        "def plot_decision_boundary(x,y,theta):\n",
        "    x_0 = data[data.Y==0].iloc[:,0:2]\n",
        "    y_0 = data[data.Y==0].iloc[:,2]\n",
        "    x_1 = data[data.Y==1].iloc[:,0:2]\n",
        "    y_1 = data[data.Y==0].iloc[:,2]\n",
        "\n",
        "    slope = -(theta[0] / theta[2])\n",
        "    intercept = -(theta[1] / theta[2])\n",
        "    x = np.arange(x.shape[0], step=1)\n",
        "    y = slope * x + intercept\n",
        "    plt.scatter(x_0.iloc[:, 0], x_0.iloc[:, 1], marker = 'x')\n",
        "    plt.scatter(x_1.iloc[:, 0], x_1.iloc[:, 1], marker = 'o')\n",
        "    plt.plot(x, y, '-b')\n",
        "    plt.xlabel('feature 1')\n",
        "    plt.ylabel('feature 2')\n",
        "    plt.title('Plotting the data with decision boundary')\n",
        "    plt.show()"
      ],
      "metadata": {
        "id": "_MOBR6F4z1Jw"
      },
      "execution_count": 33,
      "outputs": []
    },
    {
      "cell_type": "code",
      "source": [
        "if __name__ == '__main__':\n",
        "\n",
        "    # obtain the data in a dataframe format using 3 sets of lists x1, x2 and y\n",
        "    x1 = [-3.98, -3.464,0-3.461,-2.22, -2.02, -2.01, -1.42, -1.416, -1.09, -0.19, 0.01, 0.03, 0.04, 0.06, 0.07, 0.12, 1.11, 1.411, 1.414, 1.86, 1.96, 2.11, 3.461, 3.464, 4.12]\n",
        "    x2 = [-0.12, -2.11,  1.89, -3.474, 0.03, 3.459, -1.409, 1.419, 0.08, -4.13, 1.02, -2.12, 2.06, 3.97, 0.1, -1.12, 0.09, 1.419, -1.415, 3.47, -0.12, -3.472, -1.87, 2.07, 0.09]\n",
        "    y = [1,1,1,1,0, 1, 0,0,0,1,0,0,0,1,0,0,0,0,0,1,0,1,1,1,1]\n",
        "    data = pd.DataFrame({'X1':x1, 'X2':x2, 'Y':y})\n",
        "    # observations\n",
        "    print(data.head(25))\n",
        "    # shape of the data\n",
        "    print(data.shape)\n",
        "\n",
        "    # Split data to dependendt and independent variables\n",
        "    x = data.iloc[:,0:2]\n",
        "    y = data.iloc[:,2]\n",
        "\n",
        "    # Convert dependent variable into numpy array\n",
        "    y = y.values\n",
        "\n",
        "    # Convert independent variables into numpy array\n",
        "    x = x.values\n",
        "    \n",
        "\n",
        "    # Plot all points in two different classes first using python matplotlib functions\n",
        "    plt.scatter(x[y==0,0],x[y==0,1],c='g')\n",
        "    plt.scatter(x[y==1,0],x[y==1,1],c='r')\n",
        "    plt.xlabel('feature 1')\n",
        "    plt.ylabel('feature 2')\n",
        "    plt.title('Plotting the data')\n",
        "    plt.show()\n",
        "\n",
        "    # Define learning rate\n",
        "    learning_rate = 0.01\n",
        "\n",
        "    # Define maximum number of iterations\n",
        "    max_itr = 500\n",
        "\n",
        "    # Call gradient descent function\n",
        "    theta,cost_history = gradient_descent(x,y,learning_rate,max_itr)\n",
        "\n",
        "    # Plot cost history\n",
        "    plt.plot(cost_history)\n",
        "    plt.xlabel(\"Iterations\")\n",
        "    plt.ylabel(\"Cost\")\n",
        "    plt.title(\"Cost\")\n",
        "    plt.show()\n",
        "\n"
      ],
      "metadata": {
        "colab": {
          "base_uri": "https://localhost:8080/",
          "height": 1000
        },
        "id": "vihu22qw0Edd",
        "outputId": "cfa1ac53-6f7d-4f80-dc4a-89f6b2b07c75"
      },
      "execution_count": 34,
      "outputs": [
        {
          "output_type": "stream",
          "name": "stdout",
          "text": [
            "       X1     X2  Y\n",
            "0  -3.980 -0.120  1\n",
            "1  -3.464 -2.110  1\n",
            "2  -3.461  1.890  1\n",
            "3  -2.220 -3.474  1\n",
            "4  -2.020  0.030  0\n",
            "5  -2.010  3.459  1\n",
            "6  -1.420 -1.409  0\n",
            "7  -1.416  1.419  0\n",
            "8  -1.090  0.080  0\n",
            "9  -0.190 -4.130  1\n",
            "10  0.010  1.020  0\n",
            "11  0.030 -2.120  0\n",
            "12  0.040  2.060  0\n",
            "13  0.060  3.970  1\n",
            "14  0.070  0.100  0\n",
            "15  0.120 -1.120  0\n",
            "16  1.110  0.090  0\n",
            "17  1.411  1.419  0\n",
            "18  1.414 -1.415  0\n",
            "19  1.860  3.470  1\n",
            "20  1.960 -0.120  0\n",
            "21  2.110 -3.472  1\n",
            "22  3.461 -1.870  1\n",
            "23  3.464  2.070  1\n",
            "24  4.120  0.090  1\n",
            "(25, 3)\n"
          ]
        },
        {
          "output_type": "display_data",
          "data": {
            "text/plain": [
              "<Figure size 432x288 with 1 Axes>"
            ],
            "image/png": "[encoded data removed]"
          },
          "metadata": {
            "needs_background": "light"
          }
        },
        {
          "output_type": "display_data",
          "data": {
            "text/plain": [
              "<Figure size 432x288 with 1 Axes>"
            ],
            "image/png": "[encoded data removed]"
          },
          "metadata": {
            "needs_background": "light"
          }
        }
      ]
    },
    {
      "cell_type": "code",
      "source": [
        "# Display trained parameters\n",
        "print(theta)"
      ],
      "metadata": {
        "colab": {
          "base_uri": "https://localhost:8080/"
        },
        "id": "4vlS6PgO0Q8G",
        "outputId": "f29cdf09-9159-4091-bd4d-f14d4fa5b762"
      },
      "execution_count": 35,
      "outputs": [
        {
          "output_type": "stream",
          "name": "stdout",
          "text": [
            "[[ 1.50424889e+00  1.50424889e+00  1.50424889e+00  1.50424889e+00\n",
            "  -1.50424889e+00  1.50424889e+00 -1.50424889e+00 -1.50424889e+00\n",
            "  -1.50424889e+00  1.50424889e+00 -1.50424889e+00 -1.50424889e+00\n",
            "  -1.50424889e+00  1.50424889e+00 -1.50424889e+00 -1.50424889e+00\n",
            "  -1.50424889e+00 -1.50424889e+00 -1.50424889e+00  1.50424889e+00\n",
            "  -1.50424889e+00  1.50424889e+00  1.50424889e+00  1.50424889e+00\n",
            "   1.50424889e+00]\n",
            " [-2.91064030e-04 -2.91064030e-04 -2.91064030e-04 -2.91064030e-04\n",
            "   2.91064030e-04 -2.91064030e-04  2.91064030e-04  2.91064030e-04\n",
            "   2.91064030e-04 -2.91064030e-04  2.91064030e-04  2.91064030e-04\n",
            "   2.91064030e-04 -2.91064030e-04  2.91064030e-04  2.91064030e-04\n",
            "   2.91064030e-04  2.91064030e-04  2.91064030e-04 -2.91064030e-04\n",
            "   2.91064030e-04 -2.91064030e-04 -2.91064030e-04 -2.91064030e-04\n",
            "  -2.91064030e-04]\n",
            " [-2.14221192e-03 -2.14221192e-03 -2.14221192e-03 -2.14221192e-03\n",
            "   2.14221192e-03 -2.14221192e-03  2.14221192e-03  2.14221192e-03\n",
            "   2.14221192e-03 -2.14221192e-03  2.14221192e-03  2.14221192e-03\n",
            "   2.14221192e-03 -2.14221192e-03  2.14221192e-03  2.14221192e-03\n",
            "   2.14221192e-03  2.14221192e-03  2.14221192e-03 -2.14221192e-03\n",
            "   2.14221192e-03 -2.14221192e-03 -2.14221192e-03 -2.14221192e-03\n",
            "  -2.14221192e-03]]\n"
          ]
        }
      ]
    },
    {
      "cell_type": "code",
      "source": [
        "# Plot decision boundary\n",
        "plot_decision_boundary(x,y,theta)"
      ],
      "metadata": {
        "colab": {
          "base_uri": "https://localhost:8080/",
          "height": 295
        },
        "id": "wQRxkeun1E3C",
        "outputId": "8f461cf2-9de0-4301-c93a-9a8628652441"
      },
      "execution_count": 36,
      "outputs": [
        {
          "output_type": "display_data",
          "data": {
            "text/plain": [
              "<Figure size 432x288 with 1 Axes>"
            ],
            "image/png": "[encoded data removed]"
          },
          "metadata": {
            "needs_background": "light"
          }
        }
      ]
    }
  ]
}