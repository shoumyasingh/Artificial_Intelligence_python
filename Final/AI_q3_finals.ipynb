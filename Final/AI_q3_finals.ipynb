{
  "nbformat": 4,
  "nbformat_minor": 0,
  "metadata": {
    "colab": {
      "name": "AI_q3_finals.ipynb",
      "provenance": []
    },
    "kernelspec": {
      "name": "python3",
      "display_name": "Python 3"
    },
    "language_info": {
      "name": "python"
    }
  },
  "cells": [
    {
      "cell_type": "code",
      "execution_count": 3,
      "metadata": {
        "colab": {
          "base_uri": "https://localhost:8080/"
        },
        "id": "a5UxkiioMAy1",
        "outputId": "0cda6816-dfd2-4935-c626-2d9dcb36b237"
      },
      "outputs": [
        {
          "output_type": "stream",
          "name": "stdout",
          "text": [
            "Population Size is:  0.8\n",
            "2 7\n",
            "0111010100\n",
            "['0', '1', '1', '1', '0', '1', '0', '1', '0', '0']\n",
            "['0', '1', '1', '1', '0', '1', '0', '0', '0', '0']\n",
            "6 2\n",
            "1110100011\n",
            "['1', '1', '1', '0', '1', '0', '0', '0', '1', '1']\n",
            "['1', '1', '0', '0', '1', '0', '0', '0', '1', '1']\n",
            "0 5\n",
            "1001011010\n",
            "['1', '0', '0', '1', '0', '1', '1', '0', '1', '0']\n",
            "['1', '0', '0', '1', '0', '0', '1', '0', '1', '0']\n",
            "12 2\n",
            "0001011010\n",
            "['0', '0', '0', '1', '0', '1', '1', '0', '1', '0']\n",
            "['0', '0', '1', '1', '0', '1', '1', '0', '1', '0']\n",
            "13 6\n",
            "1011010000\n",
            "['1', '0', '1', '1', '0', '1', '0', '0', '0', '0']\n",
            "['1', '0', '1', '1', '0', '1', '1', '0', '0', '0']\n",
            "\n",
            " The Original:\n",
            " ['1001001010', '1110010000', '0111010000', '1110010101', '0111010000', '1110010101', '1100100011', '1110100001', '0100111000', '0110010011', '1110001011', '1000010010', '0011011010', '1011011000', '1101101001', '1110010000']\n",
            "After mutation: \n",
            " ['1001001010', '1110010000', '0111010000', '1110010101', '0111010000', '1110010101', '1100100011', '1110100001', '0100111000', '0110010011', '1110001011', '1000010010', '0011011010', '1011011000', '1101101001', '1110010000']\n"
          ]
        }
      ],
      "source": [
        "import numpy as np\n",
        "\n",
        "def mutation_new(parent, mutation):\n",
        "  chromosome = len(parent[0])\n",
        "  population_size = len(parent)\n",
        "\n",
        "  size = chromosome*population_size*mutation\n",
        "  print(\"Population Size is: \",size)\n",
        "\n",
        "  for i in range(5):\n",
        "    id = np.random.randint(0, population_size)\n",
        "    position = np.random.randint(0, chromosome)\n",
        "\n",
        "    print(id, position)\n",
        "    print(parent[id])\n",
        "    g = list(parent[id])\n",
        "    print(g)\n",
        "    if g[position]=='0':\n",
        "      g[position] = '1'\n",
        "    else:\n",
        "      g[position] = '0'\n",
        "    print(g)\n",
        "    parent[id]=''.join(g)\n",
        "  return parent\n",
        "\n",
        "mutation = 0.005\n",
        "parent=['1001011010','1110010000',\n",
        "        '0111010100','1110010101',\n",
        "        '0111010000','1110010101',\n",
        "        '1110100011','1110100001',\n",
        "        '0100111000','0110010011',\n",
        "        '1110001011','1000010010',\n",
        "        '0001011010','1011010000',\n",
        "        '1101101001','1110010000']\n",
        "\n",
        "parent_mutation = mutation_new(parent, mutation)\n",
        "print(\"\\n The Original:\\n\", parent)\n",
        "print(\"After mutation: \\n\",parent_mutation)"
      ]
    }
  ]
}