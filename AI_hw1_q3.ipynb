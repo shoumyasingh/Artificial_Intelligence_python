{
  "nbformat": 4,
  "nbformat_minor": 0,
  "metadata": {
    "colab": {
      "name": "AI_hw1_q3.ipynb",
      "provenance": [],
      "authorship_tag": "ABX9TyPfkiDrH6gWh0e4IYw1Xb76",
      "include_colab_link": true
    },
    "kernelspec": {
      "name": "python3",
      "display_name": "Python 3"
    },
    "language_info": {
      "name": "python"
    }
  },
  "cells": [
    {
      "cell_type": "markdown",
      "metadata": {
        "id": "view-in-github",
        "colab_type": "text"
      },
      "source": [
        "<a href=\"https://colab.research.google.com/github/shoumyasingh/Artificial_Intelligence_python/blob/main/AI_hw1_q3.ipynb\" target=\"_parent\"><img src=\"https://colab.research.google.com/assets/colab-badge.svg\" alt=\"Open In Colab\"/></a>"
      ]
    },
    {
      "cell_type": "code",
      "source": [
        "import numpy as np\n",
        "\n",
        "# Dataset array\n",
        "A0 = np.array([[0, 4], [1, 5]])\n",
        "A1 = np.array([[2, 16], [3, 21]])\n",
        "A2 = np.array([[4, 36], [5, 45]])\n",
        "A3 = np.array([[6, 64], [7, 77]])\n",
        "A4 = np.array( [[8, 100], [9, 117]])\n",
        "A5 = np.array([[10, 144],[0,0]])\n",
        "\n"
      ],
      "metadata": {
        "id": "ETLm6q9ZZuwX"
      },
      "execution_count": 16,
      "outputs": []
    },
    {
      "cell_type": "code",
      "source": [
        "Ax0=np.linalg.det(A0)\n",
        "Ax1=np.linalg.det(A1)\n",
        "Ax2=np.linalg.det(A2)\n",
        "Ax3=np.linalg.det(A3)\n",
        "Ax4=np.linalg.det(A4)\n",
        "Ax5=np.linalg.det(A5)\n",
        "x = Ax1/Ax0\n",
        "y = Ax2/Ax0\n",
        "z = Ax3/Ax0\n",
        "w = Ax4/Ax0\n",
        "v = Ax5/Ax0\n",
        "#Determine the value of x,y and z\n",
        "\n",
        "print(\"x\",x)\n",
        "print(\"y\",y)\n",
        "print(\"z\",z)\n",
        "print(\"w\",w)\n",
        "print(\"v\",v)\n"
      ],
      "metadata": {
        "colab": {
          "base_uri": "https://localhost:8080/"
        },
        "id": "WTzlcl6FPO_y",
        "outputId": "8bf45f43-f267-48a3-a38e-752514705f38"
      },
      "execution_count": 21,
      "outputs": [
        {
          "output_type": "stream",
          "name": "stdout",
          "text": [
            "x 1.5\n",
            "y -0.0\n",
            "z -3.499999999999999\n",
            "w -9.0\n",
            "v -0.0\n"
          ]
        }
      ]
    }
  ]
}