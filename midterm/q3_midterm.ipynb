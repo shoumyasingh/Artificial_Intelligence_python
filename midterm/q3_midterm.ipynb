{
  "nbformat": 4,
  "nbformat_minor": 0,
  "metadata": {
    "colab": {
      "name": "q3_midterm.ipynb",
      "provenance": [],
      "authorship_tag": "ABX9TyPXPm6RZJNUOOvnkJi7HozK",
      "include_colab_link": true
    },
    "kernelspec": {
      "name": "python3",
      "display_name": "Python 3"
    },
    "language_info": {
      "name": "python"
    }
  },
  "cells": [
    {
      "cell_type": "markdown",
      "metadata": {
        "id": "view-in-github",
        "colab_type": "text"
      },
      "source": [
        "<a href=\"https://colab.research.google.com/github/shoumyasingh/Artificial_Intelligence_python/blob/main/q3_midterm.ipynb\" target=\"_parent\"><img src=\"https://colab.research.google.com/assets/colab-badge.svg\" alt=\"Open In Colab\"/></a>"
      ]
    },
    {
      "cell_type": "code",
      "source": [
        "import numpy as np\n",
        "import matplotlib.pyplot as plt\n",
        "import pandas as pd\n",
        "\n",
        "#dataset\n",
        "x =  np.array([1,2,3,4,5]) \n",
        "y =  np.array([7,9,12,15,16])\n",
        "\n",
        "plt.scatter(x,y,color='red')\n",
        "x_bias = np.ones((5,1))\n",
        "x = np.reshape(x,(5,1))\n",
        "x = np.append(x_bias,x,axis=1)\n",
        "x_transpose = np.transpose(x)\n",
        "x_transpose_dot_x = x_transpose.dot(x)\n",
        "temp_1 = np.linalg.inv(x_transpose_dot_x) #normal equation\n",
        "temp_2=x_transpose.dot(y)\n",
        "theta =temp_1.dot(temp_2)#theta\n",
        "print(theta)\n",
        "\n",
        "y = 4.6 + 2.4*x            \n",
        "\n",
        "plt.plot(x,y,color='blue')\n",
        "plt.show()"
      ],
      "metadata": {
        "id": "z9KrawGUqcuy",
        "colab": {
          "base_uri": "https://localhost:8080/",
          "height": 282
        },
        "outputId": "fd692674-5076-4bb6-c1b4-d333ae0cda3b"
      },
      "execution_count": 8,
      "outputs": [
        {
          "output_type": "stream",
          "name": "stdout",
          "text": [
            "[4.6 2.4]\n"
          ]
        },
        {
          "output_type": "display_data",
          "data": {
            "text/plain": [
              "<Figure size 432x288 with 1 Axes>"
            ],
            "image/png": "[encoded data removed]"
          },
          "metadata": {
            "needs_background": "light"
          }
        }
      ]
    }
  ]
}