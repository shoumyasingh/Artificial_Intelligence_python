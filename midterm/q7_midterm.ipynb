{
  "nbformat": 4,
  "nbformat_minor": 0,
  "metadata": {
    "colab": {
      "name": "q7_midterm.ipynb",
      "provenance": [],
      "authorship_tag": "ABX9TyPDjcs1CKxcicTQgSqk17Jd",
      "include_colab_link": true
    },
    "kernelspec": {
      "name": "python3",
      "display_name": "Python 3"
    },
    "language_info": {
      "name": "python"
    }
  },
  "cells": [
    {
      "cell_type": "markdown",
      "metadata": {
        "id": "view-in-github",
        "colab_type": "text"
      },
      "source": [
        "<a href=\"https://colab.research.google.com/github/shoumyasingh/Artificial_Intelligence_python/blob/main/q7_midterm.ipynb\" target=\"_parent\"><img src=\"https://colab.research.google.com/assets/colab-badge.svg\" alt=\"Open In Colab\"/></a>"
      ]
    },
    {
      "cell_type": "code",
      "execution_count": 5,
      "metadata": {
        "colab": {
          "base_uri": "https://localhost:8080/",
          "height": 560
        },
        "id": "XIAcCXTQrxia",
        "outputId": "1cbce86e-a45d-4112-e131-a68f110fef76"
      },
      "outputs": [
        {
          "output_type": "stream",
          "name": "stdout",
          "text": [
            "(5,) (5, 2)\n"
          ]
        },
        {
          "output_type": "display_data",
          "data": {
            "text/plain": [
              "<Figure size 432x288 with 1 Axes>"
            ],
            "image/png": "[encoded data removed]"
          },
          "metadata": {
            "needs_background": "light"
          }
        },
        {
          "output_type": "display_data",
          "data": {
            "text/plain": [
              "<Figure size 432x288 with 1 Axes>"
            ],
            "image/png": "[encoded data removed]"
          },
          "metadata": {
            "needs_background": "light"
          }
        }
      ],
      "source": [
        "import numpy as np\n",
        "import pandas as pd\n",
        "from matplotlib import pyplot as plt\n",
        "from sklearn.datasets import make_blobs\n",
        "#from sklearn.datasets.samples_generator import make_blobs\n",
        "from sklearn.cluster import KMeans\n",
        "\n",
        "\n",
        "X = np.array([[2,10], \n",
        "              [8,4],\n",
        "              [5,8],\n",
        "              [6,4],\n",
        "              [1,2]])\n",
        "y = np.array([0, 2, 1, 0, 1])\n",
        "plt.scatter(X[:,0], X[:,1])\n",
        "print(y.shape, X.shape)\n",
        "\n",
        "wcss = []\n",
        "for i in range(1, 5):\n",
        "    kmeans = KMeans(n_clusters=i, init='k-means++', max_iter=300, n_init=10, random_state=0)\n",
        "    \"\"\"\n",
        "      'k-means++':  selects initial cluster centers \n",
        "\t                  for k-mean clustering in a smart way \n",
        "\t                  to speed up convergence\n",
        "      n_init=10:    Number of time the k-means algorithm will be run \n",
        "                  with different centroid seeds. The final results will be \n",
        "                  the best output of n_init consecutive runs in terms of inertia\n",
        "    \"\"\"\n",
        "    kmeans.fit(X)\n",
        "    wcss.append(kmeans.inertia_)\n",
        "    \"\"\"\n",
        "      kmeans.inertia_: Sum of squared distances of samples to their closest cluster center\n",
        "    \"\"\"\n",
        "plt.plot(range(1, 5), wcss)\n",
        "plt.title('Elbow Method')\n",
        "plt.xlabel('Number of clusters')\n",
        "plt.ylabel('WCSS')\n",
        "plt.show()\n",
        "\n",
        "\n",
        "kmeans = KMeans(n_clusters=2, init='k-means++', max_iter=300, n_init=10, random_state=0)\n",
        "pred_y = kmeans.fit_predict(X)\n",
        "plt.scatter(X[:,0], X[:,1])\n",
        "plt.scatter(kmeans.cluster_centers_[:, 0], kmeans.cluster_centers_[:, 1], s=300, c='red')\n",
        "plt.show()\n"
      ]
    }
  ]
}