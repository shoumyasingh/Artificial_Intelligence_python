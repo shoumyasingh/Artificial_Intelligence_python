{
  "nbformat": 4,
  "nbformat_minor": 0,
  "metadata": {
    "colab": {
      "name": "Al_hw2_q1.ipynb",
      "provenance": [],
      "authorship_tag": "ABX9TyN+YdIKaQxyvp3nEOqdArCx",
      "include_colab_link": true
    },
    "kernelspec": {
      "name": "python3",
      "display_name": "Python 3"
    },
    "language_info": {
      "name": "python"
    }
  },
  "cells": [
    {
      "cell_type": "markdown",
      "metadata": {
        "id": "view-in-github",
        "colab_type": "text"
      },
      "source": [
        "<a href=\"https://colab.research.google.com/github/shoumyasingh/Artificial_Intelligence_python/blob/main/Al_hw2_q1.ipynb\" target=\"_parent\"><img src=\"https://colab.research.google.com/assets/colab-badge.svg\" alt=\"Open In Colab\"/></a>"
      ]
    },
    {
      "cell_type": "code",
      "source": [
        "import numpy as np\n",
        "import matplotlib.pyplot as plt\n",
        "import pandas as pd"
      ],
      "metadata": {
        "id": "3aU1XkEWTtf1"
      },
      "execution_count": 1,
      "outputs": []
    },
    {
      "cell_type": "code",
      "source": [
        "#dataset\n",
        "x =  np.array([1,3,5,7,9,11,13,15,17,19]) \n",
        "y =  np.array([3,3,7,7,11,11,15,15,19,19])"
      ],
      "metadata": {
        "id": "pEoIyJdsTzEf"
      },
      "execution_count": 2,
      "outputs": []
    },
    {
      "cell_type": "code",
      "source": [
        "plt.scatter(x,y,color='red')\n",
        "x_bias = np.ones((10,1))\n",
        "x = np.reshape(x,(10,1))\n",
        "x = np.append(x_bias,x,axis=1)\n",
        "x_transpose = np.transpose(x)\n",
        "x_transpose_dot_x = x_transpose.dot(x)\n",
        "temp_1 = np.linalg.inv(x_transpose_dot_x) #normal equation\n",
        "temp_2=x_transpose.dot(y)\n",
        "theta =temp_1.dot(temp_2)#theta\n",
        "print(theta)\n",
        "\n",
        "y = 1.3030303 + 0.96969697*x            \n",
        "\n",
        "plt.plot(x,y,color='blue')\n",
        "plt.show()"
      ],
      "metadata": {
        "colab": {
          "base_uri": "https://localhost:8080/",
          "height": 282
        },
        "id": "DxwHtSlwULfa",
        "outputId": "befd407f-4db6-4eb5-ccd4-aad3881b2f7c"
      },
      "execution_count": 3,
      "outputs": [
        {
          "output_type": "stream",
          "name": "stdout",
          "text": [
            "[1.3030303  0.96969697]\n"
          ]
        },
        {
          "output_type": "display_data",
          "data": {
            "text/plain": [
              "<Figure size 432x288 with 1 Axes>"
            ],
            "image/png": "[encoded data removed]"
          },
          "metadata": {
            "needs_background": "light"
          }
        }
      ]
    }
  ]
}